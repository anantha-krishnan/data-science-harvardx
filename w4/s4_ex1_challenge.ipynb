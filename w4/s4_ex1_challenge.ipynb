{
    "metadata": {
        "kernelspec": {
            "name": "python3",
            "display_name": "Python 3 (ipykernel)",
            "language": "python"
        }
    },
    "nbformat": 4,
    "nbformat_minor": 4,
    "cells": [
        {
            "cell_type": "code",
            "execution_count": 1,
            "metadata": {
                "collapsed": true
            },
            "outputs": [],
            "source": [
                "# Import necessary libraries\n",
                "%matplotlib inline\n",
                "import pandas as pd\n",
                "import numpy as np\n",
                "import matplotlib.pyplot as plt\n",
                "from sklearn import preprocessing\n",
                "from sklearn.linear_model import Lasso\n",
                "from sklearn.linear_model import Ridge\n",
                "from sklearn.metrics import mean_squared_error\n",
                "from sklearn.linear_model import LinearRegression\n",
                "from sklearn.model_selection import train_test_split\n",
                "from sklearn.preprocessing import PolynomialFeatures\n",
                ""
            ]
        },
        {
            "attachments": {},
            "cell_type": "markdown",
            "metadata": {},
            "source": [
                "### Reading the dataset"
            ]
        },
        {
            "cell_type": "code",
            "execution_count": 4,
            "metadata": {
                "collapsed": true
            },
            "outputs": [
                {
                    "data": {
                        "text/html": "\u003cdiv\u003e\n\u003cstyle scoped\u003e\n    .dataframe tbody tr th:only-of-type {\n        vertical-align: middle;\n    }\n\n    .dataframe tbody tr th {\n        vertical-align: top;\n    }\n\n    .dataframe thead th {\n        text-align: right;\n    }\n\u003c/style\u003e\n\u003ctable border=\"1\" class=\"dataframe\"\u003e\n  \u003cthead\u003e\n    \u003ctr style=\"text-align: right;\"\u003e\n      \u003cth\u003e\u003c/th\u003e\n      \u003cth\u003ecrim\u003c/th\u003e\n      \u003cth\u003eindus\u003c/th\u003e\n      \u003cth\u003enox\u003c/th\u003e\n      \u003cth\u003erm\u003c/th\u003e\n      \u003cth\u003eage\u003c/th\u003e\n      \u003cth\u003edis\u003c/th\u003e\n      \u003cth\u003erad\u003c/th\u003e\n      \u003cth\u003etax\u003c/th\u003e\n      \u003cth\u003eptratio\u003c/th\u003e\n      \u003cth\u003eblack\u003c/th\u003e\n      \u003cth\u003elstat\u003c/th\u003e\n      \u003cth\u003emedv\u003c/th\u003e\n    \u003c/tr\u003e\n  \u003c/thead\u003e\n  \u003ctbody\u003e\n    \u003ctr\u003e\n      \u003cth\u003e0\u003c/th\u003e\n      \u003ctd\u003e0.00632\u003c/td\u003e\n      \u003ctd\u003e2.31\u003c/td\u003e\n      \u003ctd\u003e0.538\u003c/td\u003e\n      \u003ctd\u003e6.575\u003c/td\u003e\n      \u003ctd\u003e65.2\u003c/td\u003e\n      \u003ctd\u003e4.0900\u003c/td\u003e\n      \u003ctd\u003e1\u003c/td\u003e\n      \u003ctd\u003e296\u003c/td\u003e\n      \u003ctd\u003e15.3\u003c/td\u003e\n      \u003ctd\u003e396.90\u003c/td\u003e\n      \u003ctd\u003e4.98\u003c/td\u003e\n      \u003ctd\u003e24.0\u003c/td\u003e\n    \u003c/tr\u003e\n    \u003ctr\u003e\n      \u003cth\u003e1\u003c/th\u003e\n      \u003ctd\u003e0.02731\u003c/td\u003e\n      \u003ctd\u003e7.07\u003c/td\u003e\n      \u003ctd\u003e0.469\u003c/td\u003e\n      \u003ctd\u003e6.421\u003c/td\u003e\n      \u003ctd\u003e78.9\u003c/td\u003e\n      \u003ctd\u003e4.9671\u003c/td\u003e\n      \u003ctd\u003e2\u003c/td\u003e\n      \u003ctd\u003e242\u003c/td\u003e\n      \u003ctd\u003e17.8\u003c/td\u003e\n      \u003ctd\u003e396.90\u003c/td\u003e\n      \u003ctd\u003e9.14\u003c/td\u003e\n      \u003ctd\u003e21.6\u003c/td\u003e\n    \u003c/tr\u003e\n    \u003ctr\u003e\n      \u003cth\u003e2\u003c/th\u003e\n      \u003ctd\u003e0.02729\u003c/td\u003e\n      \u003ctd\u003e7.07\u003c/td\u003e\n      \u003ctd\u003e0.469\u003c/td\u003e\n      \u003ctd\u003e7.185\u003c/td\u003e\n      \u003ctd\u003e61.1\u003c/td\u003e\n      \u003ctd\u003e4.9671\u003c/td\u003e\n      \u003ctd\u003e2\u003c/td\u003e\n      \u003ctd\u003e242\u003c/td\u003e\n      \u003ctd\u003e17.8\u003c/td\u003e\n      \u003ctd\u003e392.83\u003c/td\u003e\n      \u003ctd\u003e4.03\u003c/td\u003e\n      \u003ctd\u003e34.7\u003c/td\u003e\n    \u003c/tr\u003e\n    \u003ctr\u003e\n      \u003cth\u003e3\u003c/th\u003e\n      \u003ctd\u003e0.03237\u003c/td\u003e\n      \u003ctd\u003e2.18\u003c/td\u003e\n      \u003ctd\u003e0.458\u003c/td\u003e\n      \u003ctd\u003e6.998\u003c/td\u003e\n      \u003ctd\u003e45.8\u003c/td\u003e\n      \u003ctd\u003e6.0622\u003c/td\u003e\n      \u003ctd\u003e3\u003c/td\u003e\n      \u003ctd\u003e222\u003c/td\u003e\n      \u003ctd\u003e18.7\u003c/td\u003e\n      \u003ctd\u003e394.63\u003c/td\u003e\n      \u003ctd\u003e2.94\u003c/td\u003e\n      \u003ctd\u003e33.4\u003c/td\u003e\n    \u003c/tr\u003e\n    \u003ctr\u003e\n      \u003cth\u003e4\u003c/th\u003e\n      \u003ctd\u003e0.06905\u003c/td\u003e\n      \u003ctd\u003e2.18\u003c/td\u003e\n      \u003ctd\u003e0.458\u003c/td\u003e\n      \u003ctd\u003e7.147\u003c/td\u003e\n      \u003ctd\u003e54.2\u003c/td\u003e\n      \u003ctd\u003e6.0622\u003c/td\u003e\n      \u003ctd\u003e3\u003c/td\u003e\n      \u003ctd\u003e222\u003c/td\u003e\n      \u003ctd\u003e18.7\u003c/td\u003e\n      \u003ctd\u003e396.90\u003c/td\u003e\n      \u003ctd\u003e5.33\u003c/td\u003e\n      \u003ctd\u003e36.2\u003c/td\u003e\n    \u003c/tr\u003e\n  \u003c/tbody\u003e\n\u003c/table\u003e\n\u003c/div\u003e",
                        "text/plain": "      crim  indus    nox     rm   age     dis  rad  tax  ptratio   black  \\\n0  0.00632   2.31  0.538  6.575  65.2  4.0900    1  296     15.3  396.90   \n1  0.02731   7.07  0.469  6.421  78.9  4.9671    2  242     17.8  396.90   \n2  0.02729   7.07  0.469  7.185  61.1  4.9671    2  242     17.8  392.83   \n3  0.03237   2.18  0.458  6.998  45.8  6.0622    3  222     18.7  394.63   \n4  0.06905   2.18  0.458  7.147  54.2  6.0622    3  222     18.7  396.90   \n\n   lstat  medv  \n0   4.98  24.0  \n1   9.14  21.6  \n2   4.03  34.7  \n3   2.94  33.4  \n4   5.33  36.2  "
                    },
                    "execution_count": 4,
                    "metadata": {},
                    "output_type": "execute_result"
                }
            ],
            "source": [
                "# Read the file \"Boston_housing.csv\" as a Pandas dataframe\n",
                "df = pd.read_csv(\"Boston_housing.csv\")\n",
                "df.head()"
            ]
        },
        {
            "attachments": {},
            "cell_type": "markdown",
            "metadata": {},
            "source": [
                "## Predictors \u0026 Response variables\n",
                "\n",
                "Select the following columns as predictors\n",
                "- crim\n",
                "- indus\n",
                "- nox\n",
                "- rm\n",
                "- age\n",
                "- dis\n",
                "- rad\n",
                "- tax\n",
                "- ptratio\n",
                "- black\n",
                "- lstat\n",
                "\n",
                "#### Select the 'medv' column as response variable"
            ]
        },
        {
            "cell_type": "code",
            "execution_count": 7,
            "metadata": {},
            "outputs": [],
            "source": [
                "# Select a subdataframe of predictors mentioned above\n",
                "X = df[['crim','indus', 'nox', 'rm', 'age', 'dis', 'rad', 'tax', 'ptratio', 'black', 'lstat']]\n",
                "\n",
                "# Normalize the values of the dataframe \n",
                "X_norm = preprocessing.normalize(X, axis=0)\n",
                "\n",
                "# Select medv as the response variable\n",
                "y = df[['medv']]\n",
                ""
            ]
        },
        {
            "attachments": {},
            "cell_type": "markdown",
            "metadata": {},
            "source": [
                "### Split the dataset into train and validation sets\n",
                ""
            ]
        },
        {
            "cell_type": "code",
            "execution_count": 9,
            "metadata": {},
            "outputs": [],
            "source": [
                "### edTest(test_random) ###\n",
                "# Split the data into train and validation sets with 70% train data and\n",
                "# random_state as 31\n",
                "X_train, X_val, y_train, y_val = train_test_split(X_norm,y,random_state=31,train_size=0.7)\n",
                ""
            ]
        },
        {
            "attachments": {},
            "cell_type": "markdown",
            "metadata": {},
            "source": [
                "### Multi-linear Regression Analysis"
            ]
        },
        {
            "cell_type": "code",
            "execution_count": 10,
            "metadata": {
                "collapsed": true
            },
            "outputs": [],
            "source": [
                "# Initialize a Linear Regression model\n",
                "lreg = LinearRegression()\n",
                "\n",
                "# Fit the linear model on the train data\n",
                "lreg.fit(X_train, y_train)\n",
                "\n",
                "# Predict on the validation data\n",
                "y_val_pred = lreg.predict(X_val)\n",
                ""
            ]
        },
        {
            "cell_type": "code",
            "execution_count": 11,
            "metadata": {
                "collapsed": true
            },
            "outputs": [
                {
                    "name": "stdout",
                    "output_type": "stream",
                    "text": "Multi-linear regression validation MSE is 21.581146124032514\n"
                }
            ],
            "source": [
                "# Use the mean_squared_error function to compute the validation mse\n",
                "mse = mean_squared_error(y_val, y_val_pred)\n",
                "\n",
                "# Print the MSE value\n",
                "print (\"Multi-linear regression validation MSE is\", mse)\n",
                ""
            ]
        },
        {
            "attachments": {},
            "cell_type": "markdown",
            "metadata": {},
            "source": [
                "### Obtaining the coefficients of the predictors"
            ]
        },
        {
            "cell_type": "code",
            "execution_count": 12,
            "metadata": {},
            "outputs": [],
            "source": [
                "# Helper code to create a dictionary of the coefficients \n",
                "# along with the predictors as keys\n",
                "lreg_coef = dict(zip(X.columns, np.transpose(lreg.coef_)))\n",
                "\n",
                "# Linear regression coefficients for plotting\n",
                "lreg_x = list(lreg_coef.keys())\n",
                "lreg_y = list(lreg_coef.values())\n",
                ""
            ]
        },
        {
            "attachments": {},
            "cell_type": "markdown",
            "metadata": {},
            "source": [
                "### Implementing Lasso regularization"
            ]
        },
        {
            "cell_type": "code",
            "execution_count": 15,
            "metadata": {
                "collapsed": true
            },
            "outputs": [],
            "source": [
                "# Create a Lasso Regression model with alpha as 0.008\n",
                "lasso_reg = Lasso(alpha=0.008)\n",
                "\n",
                "# Fit the model on the train data\n",
                "lasso_reg.fit(X_train, y_train)\n",
                "\n",
                "# Predict on the validation data using the trained model\n",
                "y_val_pred =lasso_reg.predict(X_val)\n",
                ""
            ]
        },
        {
            "attachments": {},
            "cell_type": "markdown",
            "metadata": {},
            "source": [
                "### Computing the MSE with Lasso regularization"
            ]
        },
        {
            "cell_type": "code",
            "execution_count": 16,
            "metadata": {
                "collapsed": true
            },
            "outputs": [
                {
                    "name": "stdout",
                    "output_type": "stream",
                    "text": "Lasso validation MSE is 26.059895644427694\n"
                }
            ],
            "source": [
                "# Calculate the validation MSE\n",
                "mse_lasso = mean_squared_error(y_val, y_val_pred)\n",
                "\n",
                "# Print the validation MSE\n",
                "print (\"Lasso validation MSE is\", mse_lasso)\n",
                ""
            ]
        },
        {
            "cell_type": "code",
            "execution_count": 17,
            "metadata": {
                "collapsed": true
            },
            "outputs": [],
            "source": [
                "# Hhelper code to make a dictionary of the predictors \n",
                "# along with the coefficients associated with them\n",
                "lasso_coef = dict(zip(X.columns, np.transpose(lasso_reg.coef_))) \n",
                "\n",
                "# Get the Lasso regularisation coefficients for plotting\n",
                "lasso_x = list(lasso_coef.keys())\n",
                "lasso_y = list(lasso_coef.values())\n",
                ""
            ]
        },
        {
            "attachments": {},
            "cell_type": "markdown",
            "metadata": {},
            "source": [
                "### Implementing Ridge regularization"
            ]
        },
        {
            "cell_type": "code",
            "execution_count": 19,
            "metadata": {
                "collapsed": true
            },
            "outputs": [],
            "source": [
                "# Create a Ridge Regression model with alpha as 0.008\n",
                "ridgeReg = Ridge(0.008)\n",
                "\n",
                "# Fit the model on the train data\n",
                "ridgeReg.fit(X_train, y_train)\n",
                "\n",
                "# Predict the trained model on the validation data\n",
                "y_val_pred = ridgeReg.predict(X_val)\n",
                ""
            ]
        },
        {
            "attachments": {},
            "cell_type": "markdown",
            "metadata": {},
            "source": [
                "### Computing the MSE with Ridge regularization"
            ]
        },
        {
            "cell_type": "code",
            "execution_count": 20,
            "metadata": {
                "collapsed": true
            },
            "outputs": [
                {
                    "name": "stdout",
                    "output_type": "stream",
                    "text": "Ridge validation MSE is 23.01622701783856\n"
                }
            ],
            "source": [
                "### edTest(test_mse) ###\n",
                "\n",
                "# Calculate the validation MSE\n",
                "mse_ridge = mean_squared_error(y_val, y_val_pred)\n",
                "\n",
                "# Print he valdiation MSE\n",
                "print (\"Ridge validation MSE is\", mse_ridge)\n",
                ""
            ]
        },
        {
            "attachments": {},
            "cell_type": "markdown",
            "metadata": {},
            "source": [
                "### Obtaining the coefficients of the predictors"
            ]
        },
        {
            "cell_type": "code",
            "execution_count": 21,
            "metadata": {
                "collapsed": true
            },
            "outputs": [],
            "source": [
                "# Helper code to make a dictionary of the predictors \n",
                "# along with the coefficients associated with them \n",
                "ridge_coef = dict(zip(X.columns, np.transpose(ridgeReg.coef_))) \n",
                "\n",
                "# Ridge regularisation coefficients for plotting\n",
                "ridge_x = list(ridge_coef.keys())\n",
                "ridge_y = list(ridge_coef.values())\n",
                ""
            ]
        },
        {
            "attachments": {},
            "cell_type": "markdown",
            "metadata": {},
            "source": [
                "### Plotting the graph"
            ]
        },
        {
            "cell_type": "code",
            "execution_count": 28,
            "metadata": {},
            "outputs": [
                {
                    "data": {
                        "text/plain": "(array([['crim'],\n        ['indus'],\n        ['nox'],\n        ['rm'],\n        ['age'],\n        ['dis'],\n        ['rad'],\n        ['tax'],\n        ['ptratio'],\n        ['black'],\n        ['lstat']], dtype='\u003cU7'),\n array([[ -25.00790407],\n        [   3.27607624],\n        [-191.10342561],\n        [ 662.1406607 ],\n        [ -13.91808257],\n        [-127.49872838],\n        [  83.359638  ],\n        [ -99.07333868],\n        [-437.34581171],\n        [  80.49261603],\n        [-163.72647884]]))"
                    },
                    "execution_count": 28,
                    "metadata": {},
                    "output_type": "execute_result"
                }
            ],
            "source": [
                "np.asarray(lreg_x).reshape(-1,1), np.asarray(lreg_y).reshape(-1,1)"
            ]
        },
        {
            "cell_type": "code",
            "execution_count": 32,
            "metadata": {},
            "outputs": [],
            "source": [
                "lreg_x=np.asarray(lreg_x).reshape(-1,1)\n",
                "lreg_y=np.asarray(lreg_y).reshape(-1,1)"
            ]
        },
        {
            "cell_type": "code",
            "execution_count": 33,
            "metadata": {
                "collapsed": true
            },
            "outputs": [
                {
                    "data": {
                        "image/png": "[encoded data removed]",
                        "text/plain": "\u003cFigure size 640x480 with 1 Axes\u003e"
                    },
                    "metadata": {},
                    "output_type": "display_data"
                },
                {
                    "ename": "TypeError",
                    "evalue": "unhashable type: 'numpy.ndarray'",
                    "output_type": "error",
                    "traceback": [
                        "\u001b[31m---------------------------------------------------------------------------\u001b[39m",
                        "\u001b[31mTypeError\u001b[39m                                 Traceback (most recent call last)",
                        "\u001b[36mCell\u001b[39m\u001b[36m \u001b[39m\u001b[32mIn[33]\u001b[39m\u001b[32m, line 5\u001b[39m\n\u001b[32m      1\u001b[39m \u001b[38;5;66;03m# Helper code below to visualise your results\u001b[39;00m\n\u001b[32m      3\u001b[39m plt.rcdefaults()\n\u001b[32m----\u003e \u001b[39m\u001b[32m5\u001b[39m \u001b[43mplt\u001b[49m\u001b[43m.\u001b[49m\u001b[43mbarh\u001b[49m\u001b[43m(\u001b[49m\u001b[43mlreg_x\u001b[49m\u001b[43m,\u001b[49m\u001b[43mlreg_y\u001b[49m\u001b[43m,\u001b[49m\u001b[32;43m1.0\u001b[39;49m\u001b[43m,\u001b[49m\u001b[43m \u001b[49m\u001b[43malign\u001b[49m\u001b[43m=\u001b[49m\u001b[33;43m'\u001b[39;49m\u001b[33;43medge\u001b[39;49m\u001b[33;43m'\u001b[39;49m\u001b[43m,\u001b[49m\u001b[43mcolor\u001b[49m\u001b[43m=\u001b[49m\u001b[33;43m\"\u001b[39;49m\u001b[33;43m#D3B4B4\u001b[39;49m\u001b[33;43m\"\u001b[39;49m\u001b[43m,\u001b[49m\u001b[43m \u001b[49m\u001b[43mlabel\u001b[49m\u001b[43m=\u001b[49m\u001b[33;43m\"\u001b[39;49m\u001b[33;43mLinear Regression\u001b[39;49m\u001b[33;43m\"\u001b[39;49m\u001b[43m)\u001b[49m\n\u001b[32m      6\u001b[39m plt.barh(lasso_x,lasso_y,\u001b[32m0.75\u001b[39m ,align=\u001b[33m'\u001b[39m\u001b[33medge\u001b[39m\u001b[33m'\u001b[39m,color=\u001b[33m\"\u001b[39m\u001b[33m#81BDB2\u001b[39m\u001b[33m\"\u001b[39m,label = \u001b[33m\"\u001b[39m\u001b[33mLasso regularisation\u001b[39m\u001b[33m\"\u001b[39m)\n\u001b[32m      7\u001b[39m plt.barh(ridge_x,ridge_y,\u001b[32m0.25\u001b[39m ,align=\u001b[33m'\u001b[39m\u001b[33medge\u001b[39m\u001b[33m'\u001b[39m,color=\u001b[33m\"\u001b[39m\u001b[33m#7E7EC0\u001b[39m\u001b[33m\"\u001b[39m, label=\u001b[33m\"\u001b[39m\u001b[33mRidge regularisation\u001b[39m\u001b[33m\"\u001b[39m)\n",
                        "\u001b[36mFile \u001b[39m\u001b[32m/usr/lib/python3.13/site-packages/matplotlib/pyplot.py:3019\u001b[39m, in \u001b[36mbarh\u001b[39m\u001b[34m(y, width, height, left, align, data, **kwargs)\u001b[39m\n\u001b[32m   3008\u001b[39m \u001b[38;5;129m@_copy_docstring_and_deprecators\u001b[39m(Axes.barh)\n\u001b[32m   3009\u001b[39m \u001b[38;5;28;01mdef\u001b[39;00m\u001b[38;5;250m \u001b[39m\u001b[34mbarh\u001b[39m(\n\u001b[32m   3010\u001b[39m     y: \u001b[38;5;28mfloat\u001b[39m | ArrayLike,\n\u001b[32m   (...)\u001b[39m\u001b[32m   3017\u001b[39m     **kwargs,\n\u001b[32m   3018\u001b[39m ) -\u003e BarContainer:\n\u001b[32m-\u003e \u001b[39m\u001b[32m3019\u001b[39m     \u001b[38;5;28;01mreturn\u001b[39;00m \u001b[43mgca\u001b[49m\u001b[43m(\u001b[49m\u001b[43m)\u001b[49m\u001b[43m.\u001b[49m\u001b[43mbarh\u001b[49m\u001b[43m(\u001b[49m\n\u001b[32m   3020\u001b[39m \u001b[43m        \u001b[49m\u001b[43my\u001b[49m\u001b[43m,\u001b[49m\n\u001b[32m   3021\u001b[39m \u001b[43m        \u001b[49m\u001b[43mwidth\u001b[49m\u001b[43m,\u001b[49m\n\u001b[32m   3022\u001b[39m \u001b[43m        \u001b[49m\u001b[43mheight\u001b[49m\u001b[43m=\u001b[49m\u001b[43mheight\u001b[49m\u001b[43m,\u001b[49m\n\u001b[32m   3023\u001b[39m \u001b[43m        \u001b[49m\u001b[43mleft\u001b[49m\u001b[43m=\u001b[49m\u001b[43mleft\u001b[49m\u001b[43m,\u001b[49m\n\u001b[32m   3024\u001b[39m \u001b[43m        \u001b[49m\u001b[43malign\u001b[49m\u001b[43m=\u001b[49m\u001b[43malign\u001b[49m\u001b[43m,\u001b[49m\n\u001b[32m   3025\u001b[39m \u001b[43m        \u001b[49m\u001b[43m*\u001b[49m\u001b[43m*\u001b[49m\u001b[43m(\u001b[49m\u001b[43m{\u001b[49m\u001b[33;43m\"\u001b[39;49m\u001b[33;43mdata\u001b[39;49m\u001b[33;43m\"\u001b[39;49m\u001b[43m:\u001b[49m\u001b[43m \u001b[49m\u001b[43mdata\u001b[49m\u001b[43m}\u001b[49m\u001b[43m \u001b[49m\u001b[38;5;28;43;01mif\u001b[39;49;00m\u001b[43m \u001b[49m\u001b[43mdata\u001b[49m\u001b[43m \u001b[49m\u001b[38;5;129;43;01mis\u001b[39;49;00m\u001b[43m \u001b[49m\u001b[38;5;129;43;01mnot\u001b[39;49;00m\u001b[43m \u001b[49m\u001b[38;5;28;43;01mNone\u001b[39;49;00m\u001b[43m \u001b[49m\u001b[38;5;28;43;01melse\u001b[39;49;00m\u001b[43m \u001b[49m\u001b[43m{\u001b[49m\u001b[43m}\u001b[49m\u001b[43m)\u001b[49m\u001b[43m,\u001b[49m\n\u001b[32m   3026\u001b[39m \u001b[43m        \u001b[49m\u001b[43m*\u001b[49m\u001b[43m*\u001b[49m\u001b[43mkwargs\u001b[49m\u001b[43m,\u001b[49m\n\u001b[32m   3027\u001b[39m \u001b[43m    \u001b[49m\u001b[43m)\u001b[49m\n",
                        "\u001b[36mFile \u001b[39m\u001b[32m/usr/lib/python3.13/site-packages/matplotlib/axes/_axes.py:2834\u001b[39m, in \u001b[36mAxes.barh\u001b[39m\u001b[34m(self, y, width, height, left, align, data, **kwargs)\u001b[39m\n\u001b[32m   2704\u001b[39m \u001b[38;5;250m\u001b[39m\u001b[33mr\u001b[39m\u001b[33;03m\"\"\"\u001b[39;00m\n\u001b[32m   2705\u001b[39m \u001b[33;03mMake a horizontal bar plot.\u001b[39;00m\n\u001b[32m   2706\u001b[39m \n\u001b[32m   (...)\u001b[39m\u001b[32m   2831\u001b[39m \u001b[33;03m:doc:`/gallery/lines_bars_and_markers/horizontal_barchart_distribution`.\u001b[39;00m\n\u001b[32m   2832\u001b[39m \u001b[33;03m\"\"\"\u001b[39;00m\n\u001b[32m   2833\u001b[39m kwargs.setdefault(\u001b[33m'\u001b[39m\u001b[33morientation\u001b[39m\u001b[33m'\u001b[39m, \u001b[33m'\u001b[39m\u001b[33mhorizontal\u001b[39m\u001b[33m'\u001b[39m)\n\u001b[32m-\u003e \u001b[39m\u001b[32m2834\u001b[39m patches = \u001b[38;5;28;43mself\u001b[39;49m\u001b[43m.\u001b[49m\u001b[43mbar\u001b[49m\u001b[43m(\u001b[49m\u001b[43mx\u001b[49m\u001b[43m=\u001b[49m\u001b[43mleft\u001b[49m\u001b[43m,\u001b[49m\u001b[43m \u001b[49m\u001b[43mheight\u001b[49m\u001b[43m=\u001b[49m\u001b[43mheight\u001b[49m\u001b[43m,\u001b[49m\u001b[43m \u001b[49m\u001b[43mwidth\u001b[49m\u001b[43m=\u001b[49m\u001b[43mwidth\u001b[49m\u001b[43m,\u001b[49m\u001b[43m \u001b[49m\u001b[43mbottom\u001b[49m\u001b[43m=\u001b[49m\u001b[43my\u001b[49m\u001b[43m,\u001b[49m\n\u001b[32m   2835\u001b[39m \u001b[43m                   \u001b[49m\u001b[43malign\u001b[49m\u001b[43m=\u001b[49m\u001b[43malign\u001b[49m\u001b[43m,\u001b[49m\u001b[43m \u001b[49m\u001b[43mdata\u001b[49m\u001b[43m=\u001b[49m\u001b[43mdata\u001b[49m\u001b[43m,\u001b[49m\u001b[43m \u001b[49m\u001b[43m*\u001b[49m\u001b[43m*\u001b[49m\u001b[43mkwargs\u001b[49m\u001b[43m)\u001b[49m\n\u001b[32m   2836\u001b[39m \u001b[38;5;28;01mreturn\u001b[39;00m patches\n",
                        "\u001b[36mFile \u001b[39m\u001b[32m/usr/lib/python3.13/site-packages/matplotlib/__init__.py:1521\u001b[39m, in \u001b[36m_preprocess_data.\u003clocals\u003e.inner\u001b[39m\u001b[34m(ax, data, *args, **kwargs)\u001b[39m\n\u001b[32m   1518\u001b[39m \u001b[38;5;129m@functools\u001b[39m.wraps(func)\n\u001b[32m   1519\u001b[39m \u001b[38;5;28;01mdef\u001b[39;00m\u001b[38;5;250m \u001b[39m\u001b[34minner\u001b[39m(ax, *args, data=\u001b[38;5;28;01mNone\u001b[39;00m, **kwargs):\n\u001b[32m   1520\u001b[39m     \u001b[38;5;28;01mif\u001b[39;00m data \u001b[38;5;129;01mis\u001b[39;00m \u001b[38;5;28;01mNone\u001b[39;00m:\n\u001b[32m-\u003e \u001b[39m\u001b[32m1521\u001b[39m         \u001b[38;5;28;01mreturn\u001b[39;00m \u001b[43mfunc\u001b[49m\u001b[43m(\u001b[49m\n\u001b[32m   1522\u001b[39m \u001b[43m            \u001b[49m\u001b[43max\u001b[49m\u001b[43m,\u001b[49m\n\u001b[32m   1523\u001b[39m \u001b[43m            \u001b[49m\u001b[43m*\u001b[49m\u001b[38;5;28;43mmap\u001b[39;49m\u001b[43m(\u001b[49m\u001b[43mcbook\u001b[49m\u001b[43m.\u001b[49m\u001b[43msanitize_sequence\u001b[49m\u001b[43m,\u001b[49m\u001b[43m \u001b[49m\u001b[43margs\u001b[49m\u001b[43m)\u001b[49m\u001b[43m,\u001b[49m\n\u001b[32m   1524\u001b[39m \u001b[43m            \u001b[49m\u001b[43m*\u001b[49m\u001b[43m*\u001b[49m\u001b[43m{\u001b[49m\u001b[43mk\u001b[49m\u001b[43m:\u001b[49m\u001b[43m \u001b[49m\u001b[43mcbook\u001b[49m\u001b[43m.\u001b[49m\u001b[43msanitize_sequence\u001b[49m\u001b[43m(\u001b[49m\u001b[43mv\u001b[49m\u001b[43m)\u001b[49m\u001b[43m \u001b[49m\u001b[38;5;28;43;01mfor\u001b[39;49;00m\u001b[43m \u001b[49m\u001b[43mk\u001b[49m\u001b[43m,\u001b[49m\u001b[43m \u001b[49m\u001b[43mv\u001b[49m\u001b[43m \u001b[49m\u001b[38;5;129;43;01min\u001b[39;49;00m\u001b[43m \u001b[49m\u001b[43mkwargs\u001b[49m\u001b[43m.\u001b[49m\u001b[43mitems\u001b[49m\u001b[43m(\u001b[49m\u001b[43m)\u001b[49m\u001b[43m}\u001b[49m\u001b[43m)\u001b[49m\n\u001b[32m   1526\u001b[39m     bound = new_sig.bind(ax, *args, **kwargs)\n\u001b[32m   1527\u001b[39m     auto_label = (bound.arguments.get(label_namer)\n\u001b[32m   1528\u001b[39m                   \u001b[38;5;129;01mor\u001b[39;00m bound.kwargs.get(label_namer))\n",
                        "\u001b[36mFile \u001b[39m\u001b[32m/usr/lib/python3.13/site-packages/matplotlib/axes/_axes.py:2563\u001b[39m, in \u001b[36mAxes.bar\u001b[39m\u001b[34m(self, x, height, width, bottom, align, **kwargs)\u001b[39m\n\u001b[32m   2558\u001b[39m         \u001b[38;5;28mself\u001b[39m.set_yscale(\u001b[33m'\u001b[39m\u001b[33mlog\u001b[39m\u001b[33m'\u001b[39m, nonpositive=\u001b[33m'\u001b[39m\u001b[33mclip\u001b[39m\u001b[33m'\u001b[39m)\n\u001b[32m   2559\u001b[39m \u001b[38;5;28;01melse\u001b[39;00m:  \u001b[38;5;66;03m# horizontal\u001b[39;00m\n\u001b[32m   2560\u001b[39m     \u001b[38;5;66;03m# It is possible for x (left) to contain unit information.\u001b[39;00m\n\u001b[32m   2561\u001b[39m     \u001b[38;5;66;03m# However, it is also possible for x=0 for the default and width\u001b[39;00m\n\u001b[32m   2562\u001b[39m     \u001b[38;5;66;03m# to contain unit information.  This will prioritize the units of x.\u001b[39;00m\n\u001b[32m-\u003e \u001b[39m\u001b[32m2563\u001b[39m     \u001b[38;5;28;43mself\u001b[39;49m\u001b[43m.\u001b[49m\u001b[43m_process_unit_info\u001b[49m\u001b[43m(\u001b[49m\n\u001b[32m   2564\u001b[39m \u001b[43m        \u001b[49m\u001b[43m[\u001b[49m\u001b[43m(\u001b[49m\u001b[33;43m\"\u001b[39;49m\u001b[33;43mx\u001b[39;49m\u001b[33;43m\"\u001b[39;49m\u001b[43m,\u001b[49m\u001b[43m \u001b[49m\u001b[43mx\u001b[49m\u001b[43m)\u001b[49m\u001b[43m,\u001b[49m\u001b[43m \u001b[49m\u001b[43m(\u001b[49m\u001b[33;43m\"\u001b[39;49m\u001b[33;43mx\u001b[39;49m\u001b[33;43m\"\u001b[39;49m\u001b[43m,\u001b[49m\u001b[43m \u001b[49m\u001b[43mwidth\u001b[49m\u001b[43m)\u001b[49m\u001b[43m,\u001b[49m\u001b[43m \u001b[49m\u001b[43m(\u001b[49m\u001b[33;43m\"\u001b[39;49m\u001b[33;43my\u001b[39;49m\u001b[33;43m\"\u001b[39;49m\u001b[43m,\u001b[49m\u001b[43m \u001b[49m\u001b[43my\u001b[49m\u001b[43m)\u001b[49m\u001b[43m]\u001b[49m\u001b[43m,\u001b[49m\u001b[43m \u001b[49m\u001b[43mkwargs\u001b[49m\u001b[43m,\u001b[49m\u001b[43m \u001b[49m\u001b[43mconvert\u001b[49m\u001b[43m=\u001b[49m\u001b[38;5;28;43;01mFalse\u001b[39;49;00m\u001b[43m)\u001b[49m\n\u001b[32m   2565\u001b[39m     \u001b[38;5;28;01mif\u001b[39;00m log:\n\u001b[32m   2566\u001b[39m         \u001b[38;5;28mself\u001b[39m.set_xscale(\u001b[33m'\u001b[39m\u001b[33mlog\u001b[39m\u001b[33m'\u001b[39m, nonpositive=\u001b[33m'\u001b[39m\u001b[33mclip\u001b[39m\u001b[33m'\u001b[39m)\n",
                        "\u001b[36mFile \u001b[39m\u001b[32m/usr/lib/python3.13/site-packages/matplotlib/axes/_base.py:2653\u001b[39m, in \u001b[36m_AxesBase._process_unit_info\u001b[39m\u001b[34m(self, datasets, kwargs, convert)\u001b[39m\n\u001b[32m   2651\u001b[39m     \u001b[38;5;66;03m# Update from data if axis is already set but no unit is set yet.\u001b[39;00m\n\u001b[32m   2652\u001b[39m     \u001b[38;5;28;01mif\u001b[39;00m axis \u001b[38;5;129;01mis\u001b[39;00m \u001b[38;5;129;01mnot\u001b[39;00m \u001b[38;5;28;01mNone\u001b[39;00m \u001b[38;5;129;01mand\u001b[39;00m data \u001b[38;5;129;01mis\u001b[39;00m \u001b[38;5;129;01mnot\u001b[39;00m \u001b[38;5;28;01mNone\u001b[39;00m \u001b[38;5;129;01mand\u001b[39;00m \u001b[38;5;129;01mnot\u001b[39;00m axis.have_units():\n\u001b[32m-\u003e \u001b[39m\u001b[32m2653\u001b[39m         \u001b[43maxis\u001b[49m\u001b[43m.\u001b[49m\u001b[43mupdate_units\u001b[49m\u001b[43m(\u001b[49m\u001b[43mdata\u001b[49m\u001b[43m)\u001b[49m\n\u001b[32m   2654\u001b[39m \u001b[38;5;28;01mfor\u001b[39;00m axis_name, axis \u001b[38;5;129;01min\u001b[39;00m axis_map.items():\n\u001b[32m   2655\u001b[39m     \u001b[38;5;66;03m# Return if no axis is set.\u001b[39;00m\n\u001b[32m   2656\u001b[39m     \u001b[38;5;28;01mif\u001b[39;00m axis \u001b[38;5;129;01mis\u001b[39;00m \u001b[38;5;28;01mNone\u001b[39;00m:\n",
                        "\u001b[36mFile \u001b[39m\u001b[32m/usr/lib/python3.13/site-packages/matplotlib/axis.py:1754\u001b[39m, in \u001b[36mAxis.update_units\u001b[39m\u001b[34m(self, data)\u001b[39m\n\u001b[32m   1752\u001b[39m neednew = \u001b[38;5;28mself\u001b[39m._converter != converter\n\u001b[32m   1753\u001b[39m \u001b[38;5;28mself\u001b[39m._set_converter(converter)\n\u001b[32m-\u003e \u001b[39m\u001b[32m1754\u001b[39m default = \u001b[38;5;28;43mself\u001b[39;49m\u001b[43m.\u001b[49m\u001b[43m_converter\u001b[49m\u001b[43m.\u001b[49m\u001b[43mdefault_units\u001b[49m\u001b[43m(\u001b[49m\u001b[43mdata\u001b[49m\u001b[43m,\u001b[49m\u001b[43m \u001b[49m\u001b[38;5;28;43mself\u001b[39;49m\u001b[43m)\u001b[49m\n\u001b[32m   1755\u001b[39m \u001b[38;5;28;01mif\u001b[39;00m default \u001b[38;5;129;01mis\u001b[39;00m \u001b[38;5;129;01mnot\u001b[39;00m \u001b[38;5;28;01mNone\u001b[39;00m \u001b[38;5;129;01mand\u001b[39;00m \u001b[38;5;28mself\u001b[39m.units \u001b[38;5;129;01mis\u001b[39;00m \u001b[38;5;28;01mNone\u001b[39;00m:\n\u001b[32m   1756\u001b[39m     \u001b[38;5;28mself\u001b[39m.set_units(default)\n",
                        "\u001b[36mFile \u001b[39m\u001b[32m/usr/lib/python3.13/site-packages/matplotlib/category.py:106\u001b[39m, in \u001b[36mStrCategoryConverter.default_units\u001b[39m\u001b[34m(data, axis)\u001b[39m\n\u001b[32m    104\u001b[39m \u001b[38;5;66;03m# the conversion call stack is default_units -\u003e axis_info -\u003e convert\u001b[39;00m\n\u001b[32m    105\u001b[39m \u001b[38;5;28;01mif\u001b[39;00m axis.units \u001b[38;5;129;01mis\u001b[39;00m \u001b[38;5;28;01mNone\u001b[39;00m:\n\u001b[32m--\u003e \u001b[39m\u001b[32m106\u001b[39m     axis.set_units(\u001b[43mUnitData\u001b[49m\u001b[43m(\u001b[49m\u001b[43mdata\u001b[49m\u001b[43m)\u001b[49m)\n\u001b[32m    107\u001b[39m \u001b[38;5;28;01melse\u001b[39;00m:\n\u001b[32m    108\u001b[39m     axis.units.update(data)\n",
                        "\u001b[36mFile \u001b[39m\u001b[32m/usr/lib/python3.13/site-packages/matplotlib/category.py:182\u001b[39m, in \u001b[36mUnitData.__init__\u001b[39m\u001b[34m(self, data)\u001b[39m\n\u001b[32m    180\u001b[39m \u001b[38;5;28mself\u001b[39m._counter = itertools.count()\n\u001b[32m    181\u001b[39m \u001b[38;5;28;01mif\u001b[39;00m data \u001b[38;5;129;01mis\u001b[39;00m \u001b[38;5;129;01mnot\u001b[39;00m \u001b[38;5;28;01mNone\u001b[39;00m:\n\u001b[32m--\u003e \u001b[39m\u001b[32m182\u001b[39m     \u001b[38;5;28;43mself\u001b[39;49m\u001b[43m.\u001b[49m\u001b[43mupdate\u001b[49m\u001b[43m(\u001b[49m\u001b[43mdata\u001b[49m\u001b[43m)\u001b[49m\n",
                        "\u001b[36mFile \u001b[39m\u001b[32m/usr/lib/python3.13/site-packages/matplotlib/category.py:215\u001b[39m, in \u001b[36mUnitData.update\u001b[39m\u001b[34m(self, data)\u001b[39m\n\u001b[32m    213\u001b[39m \u001b[38;5;66;03m# check if convertible to number:\u001b[39;00m\n\u001b[32m    214\u001b[39m convertible = \u001b[38;5;28;01mTrue\u001b[39;00m\n\u001b[32m--\u003e \u001b[39m\u001b[32m215\u001b[39m \u001b[38;5;28;01mfor\u001b[39;00m val \u001b[38;5;129;01min\u001b[39;00m \u001b[43mOrderedDict\u001b[49m\u001b[43m.\u001b[49m\u001b[43mfromkeys\u001b[49m\u001b[43m(\u001b[49m\u001b[43mdata\u001b[49m\u001b[43m)\u001b[49m:\n\u001b[32m    216\u001b[39m     \u001b[38;5;66;03m# OrderedDict just iterates over unique values in data.\u001b[39;00m\n\u001b[32m    217\u001b[39m     _api.check_isinstance((\u001b[38;5;28mstr\u001b[39m, \u001b[38;5;28mbytes\u001b[39m), value=val)\n\u001b[32m    218\u001b[39m     \u001b[38;5;28;01mif\u001b[39;00m convertible:\n\u001b[32m    219\u001b[39m         \u001b[38;5;66;03m# this will only be called so long as convertible is True.\u001b[39;00m\n",
                        "\u001b[31mTypeError\u001b[39m: unhashable type: 'numpy.ndarray'"
                    ]
                }
            ],
            "source": [
                "# Helper code below to visualise your results\n",
                "\n",
                "plt.rcdefaults()\n",
                "\n",
                "plt.barh(lreg_x,lreg_y,1.0, align='edge',color=\"#D3B4B4\", label=\"Linear Regression\")\n",
                "plt.barh(lasso_x,lasso_y,0.75 ,align='edge',color=\"#81BDB2\",label = \"Lasso regularisation\")\n",
                "plt.barh(ridge_x,ridge_y,0.25 ,align='edge',color=\"#7E7EC0\", label=\"Ridge regularisation\")\n",
                "plt.grid(linewidth=0.2)\n",
                "plt.xlabel(\"Coefficient\")\n",
                "plt.ylabel(\"Predictors\")\n",
                "plt.legend(loc='best')\n",
                "plt.show()\n",
                ""
            ]
        },
        {
            "attachments": {},
            "cell_type": "markdown",
            "metadata": {},
            "source": [
                "# ⏸Pause and Think about it \n",
                "\n",
                "#### ⏸ How does the performance of Lasso and Ridge regression compare with that of Linear regression?\n",
                "\n",
                "#### ⏸ Change the alpha values for both, Lasso and Ridge, to 1000. What happens to the coefficients?"
            ]
        }
    ]
}
