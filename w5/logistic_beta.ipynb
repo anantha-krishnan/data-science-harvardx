{
    "metadata": {
        "kernelspec": {
            "name": "python3",
            "display_name": "Python 3 (ipykernel)",
            "language": "python"
        }
    },
    "nbformat": 4,
    "nbformat_minor": 4,
    "cells": [
        {
            "cell_type": "code",
            "execution_count": 1,
            "metadata": {},
            "outputs": [],
            "source": [
                "# import important libraries\n",
                "\n",
                "%matplotlib inline\n",
                "import sys\n",
                "import numpy as np\n",
                "import pandas as pd\n",
                "from math import exp\n",
                "import matplotlib.pyplot as plt\n",
                "from sklearn.preprocessing import normalize\n",
                "from sklearn.metrics import accuracy_score"
            ]
        },
        {
            "cell_type": "code",
            "execution_count": 2,
            "metadata": {},
            "outputs": [],
            "source": [
                "# Make a dataframe of the file \"insurance_claim.csv\"\n",
                "\n",
                "data_filename = 'insurance_claim.csv'\n",
                "df = pd.read_csv(data_filename)"
            ]
        },
        {
            "cell_type": "code",
            "execution_count": 3,
            "metadata": {},
            "outputs": [
                {
                    "data": {
                        "text/html": "\u003cdiv\u003e\n\u003cstyle scoped\u003e\n    .dataframe tbody tr th:only-of-type {\n        vertical-align: middle;\n    }\n\n    .dataframe tbody tr th {\n        vertical-align: top;\n    }\n\n    .dataframe thead th {\n        text-align: right;\n    }\n\u003c/style\u003e\n\u003ctable border=\"1\" class=\"dataframe\"\u003e\n  \u003cthead\u003e\n    \u003ctr style=\"text-align: right;\"\u003e\n      \u003cth\u003e\u003c/th\u003e\n      \u003cth\u003eage\u003c/th\u003e\n      \u003cth\u003einsuranceclaim\u003c/th\u003e\n    \u003c/tr\u003e\n  \u003c/thead\u003e\n  \u003ctbody\u003e\n    \u003ctr\u003e\n      \u003cth\u003e0\u003c/th\u003e\n      \u003ctd\u003e18.437371\u003c/td\u003e\n      \u003ctd\u003e0\u003c/td\u003e\n    \u003c/tr\u003e\n    \u003ctr\u003e\n      \u003cth\u003e1\u003c/th\u003e\n      \u003ctd\u003e19.539508\u003c/td\u003e\n      \u003ctd\u003e0\u003c/td\u003e\n    \u003c/tr\u003e\n    \u003ctr\u003e\n      \u003cth\u003e2\u003c/th\u003e\n      \u003ctd\u003e19.921685\u003c/td\u003e\n      \u003ctd\u003e0\u003c/td\u003e\n    \u003c/tr\u003e\n    \u003ctr\u003e\n      \u003cth\u003e3\u003c/th\u003e\n      \u003ctd\u003e20.625442\u003c/td\u003e\n      \u003ctd\u003e0\u003c/td\u003e\n    \u003c/tr\u003e\n    \u003ctr\u003e\n      \u003cth\u003e4\u003c/th\u003e\n      \u003ctd\u003e21.139852\u003c/td\u003e\n      \u003ctd\u003e0\u003c/td\u003e\n    \u003c/tr\u003e\n  \u003c/tbody\u003e\n\u003c/table\u003e\n\u003c/div\u003e",
                        "text/plain": "         age  insuranceclaim\n0  18.437371               0\n1  19.539508               0\n2  19.921685               0\n3  20.625442               0\n4  21.139852               0"
                    },
                    "execution_count": 3,
                    "metadata": {},
                    "output_type": "execute_result"
                }
            ],
            "source": [
                "# Take a quick look of the data, notice that the response variable is binary\n",
                "\n",
                "df.head()"
            ]
        },
        {
            "cell_type": "code",
            "execution_count": 4,
            "metadata": {},
            "outputs": [],
            "source": [
                "# Assign age as the predictor variable \n",
                "x = df[\"age\"].values\n",
                "\n",
                "# Assign insuranceclaim as the response variable\n",
                "y = df[\"insuranceclaim\"].values\n",
                ""
            ]
        },
        {
            "cell_type": "code",
            "execution_count": 5,
            "metadata": {},
            "outputs": [
                {
                    "data": {
                        "image/png": "[encoded data removed]",
                        "text/plain": "\u003cFigure size 640x480 with 1 Axes\u003e"
                    },
                    "metadata": {},
                    "output_type": "display_data"
                }
            ],
            "source": [
                "# Make a plot of the response (insuranceclaim) vs the predictor (age)\n",
                "plt.plot(x,y,'o', markersize=7,color=\"#011DAD\",label=\"Data\")\n",
                "\n",
                "# Add the labels for the axes\n",
                "plt.xlabel(\"Age\")\n",
                "plt.ylabel(\"Insurance claim\")\n",
                "\n",
                "plt.xticks(np.arange(18, 80, 4.0))\n",
                "\n",
                "# Label the value 1 as 'Yes' \u0026 0 as 'No'\n",
                "plt.yticks((0,1), labels=('No', 'Yes'))\n",
                "plt.legend(loc='best')\n",
                "plt.show()"
            ]
        },
        {
            "attachments": {},
            "cell_type": "markdown",
            "metadata": {},
            "source": [
                "Guesstimate the values of $\\beta_0$ \u0026 $\\beta_1$\n",
                "\n",
                "Refer to the logistic regression slides for information of how they affect the shape of the logistic (sigmoid) curve. \n",
                "\n",
                "*Hint: It may help to focus on the age value that looks like the point of change in the plot. The logistic regression formula should result in a 0.5 probability with your guesstimated betas for that age value in order to achieve a good accuracy.*\n",
                ""
            ]
        },
        {
            "cell_type": "code",
            "execution_count": 5,
            "metadata": {},
            "outputs": [],
            "source": [
                "### edTest(test_beta_guesstimate) ###\n",
                "\n",
                "beta0 = ___\n",
                "\n",
                "beta1 = ___\n",
                ""
            ]
        },
        {
            "attachments": {},
            "cell_type": "markdown",
            "metadata": {},
            "source": [
                "Define the logistic function below and use it to predict the probability of a positive response value given each value of `age` in the dataset.\n",
                "\n",
                "Store these predicted probabilities in the variable `probas` which can be a list or array. You can do this through looping or take advantage of vector operations.\n",
                "\n",
                "Note: It is acceptable for this exercise to access the external `beta0` \u0026 `beta1` variables in your `logistic` function.\n",
                "\n",
                "Hint: `np.exp()` may be useful here."
            ]
        },
        {
            "cell_type": "code",
            "execution_count": 6,
            "metadata": {},
            "outputs": [],
            "source": [
                "### edTest(test_beta_computation) ###\n",
                "def logistic(x):\n",
                "    return ...\n",
                "    \n",
                "# P(y=1|x_i) for each x_i in x\n",
                "probas = ... "
            ]
        },
        {
            "attachments": {},
            "cell_type": "markdown",
            "metadata": {},
            "source": [
                "**Convert the probabilities to classifications**\n",
                "\n",
                "If the predictions are above a threshold of 0.5, predict 1, otherwise predict 0. Store the predicted class labels in `y_pred`\n",
                ""
            ]
        },
        {
            "cell_type": "code",
            "execution_count": 6,
            "metadata": {},
            "outputs": [],
            "source": [
                "# Get classification predictions\n",
                "\n",
                "y_pred = ..."
            ]
        },
        {
            "attachments": {},
            "cell_type": "markdown",
            "metadata": {},
            "source": [
                "**Calculate Accuracy**\n",
                "\n",
                "See if you can get an accuracy above 90%"
            ]
        },
        {
            "cell_type": "code",
            "execution_count": 0,
            "metadata": {},
            "outputs": [],
            "source": [
                "### edTest(test_acc) ###\n",
                "# Use accuracy_score function to find the accuracy \n",
                "\n",
                "accuracy = accuracy_score(___, ___)\n",
                "\n",
                "# Print the accuracy\n",
                "print(___)"
            ]
        },
        {
            "attachments": {},
            "cell_type": "markdown",
            "metadata": {},
            "source": [
                "Complete the plot by providing the correct data (see label arguments for guidance).\n",
                "\n",
                "This plot will help you adjust your betas for better accuracy."
            ]
        },
        {
            "cell_type": "code",
            "execution_count": 0,
            "metadata": {},
            "outputs": [],
            "source": [
                "# Make a plot similar to the one above along with the fit curve\n",
                "plt.plot(___, ___,'o', markersize=7,color=\"#011DAD\",label=\"Data\")\n",
                "\n",
                "plt.plot(___,___,linewidth=2,color='black',label=\"Classifications\")\n",
                "plt.plot(___,___,linewidth=2,color='red',label=\"Probabilities\")\n",
                "\n",
                "plt.xticks(np.arange(18, 80, 4.0))\n",
                "plt.xlabel(\"Age\")\n",
                "plt.ylabel(\"Insurance claim\")\n",
                "plt.yticks((0,1), labels=('No', 'Yes'))\n",
                "plt.legend()\n",
                "plt.show()"
            ]
        },
        {
            "attachments": {},
            "cell_type": "markdown",
            "metadata": {},
            "source": [
                "## ⏸ Post exercise question:\n",
                "\n",
                "In this exercise, you may have had to stumble around to find the right values of $\\beta_0$ and $\\beta_1$ to get accurate results.\n",
                "\n",
                "Although you may have used visual inspection to find a good fit, in most problems you would need a quantative method to measure the performance of your model. (*Loss function*)\n",
                "\n",
                "Which of the following below are **NOT** possible ways of quantifying the performance of the model.\n",
                "\n",
                "- A. Compute the mean squared error loss of the predicted labels.\n",
                "- B. Evaluate the log-likelihood for this Bernoulli response variable.\n",
                "- C. Go the the temple of Apollo at Delphi, and ask the high priestess Pythia\n",
                "- D. Compute the total number of misclassified labels."
            ]
        },
        {
            "cell_type": "code",
            "execution_count": 0,
            "metadata": {},
            "outputs": [],
            "source": [
                "### edTest(test_quiz) ###\n",
                "\n",
                "# Put down your answers in a string format below (using quotes)\n",
                "\n",
                "# for. eg, if you think the options are 'A' \u0026 'B', input below as \"A,B\"\n",
                "\n",
                "answer = ___"
            ]
        }
    ]
}
