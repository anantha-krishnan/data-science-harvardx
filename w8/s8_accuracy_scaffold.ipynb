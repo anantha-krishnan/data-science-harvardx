{
    "metadata": {
        "kernelspec": {
            "name": "python3",
            "display_name": "Python 3 (ipykernel)",
            "language": "python"
        }
    },
    "nbformat": 4,
    "nbformat_minor": 4,
    "cells": [
        {
            "cell_type": "code",
            "execution_count": 0,
            "metadata": {},
            "outputs": [],
            "source": [
                "# Import necessary libraries\n",
                "import pandas as pd\n",
                "# Your code here\n",
                ""
            ]
        },
        {
            "cell_type": "code",
            "execution_count": 0,
            "metadata": {},
            "outputs": [],
            "source": [
                "# Read the datafile \"covid_train.csv\"\n",
                "___\n",
                "\n",
                "# Take a quick look at the dataframe\n",
                "___\n",
                ""
            ]
        },
        {
            "cell_type": "code",
            "execution_count": 0,
            "metadata": {},
            "outputs": [],
            "source": [
                "# Read the datafile \"covid_test.csv\"\n",
                "___\n",
                "\n",
                "# Take a quick look at the dataframe\n",
                "___\n",
                ""
            ]
        },
        {
            "cell_type": "code",
            "execution_count": 0,
            "metadata": {},
            "outputs": [],
            "source": [
                "# Get the train predictors\n",
                "X_train = ___\n",
                "\n",
                "# Get the train response variable\n",
                "y_train = ___\n",
                ""
            ]
        },
        {
            "cell_type": "code",
            "execution_count": 0,
            "metadata": {},
            "outputs": [],
            "source": [
                "# Get the test predictors\n",
                "X_test = ___\n",
                "\n",
                "# Get the test response variable\n",
                "y_test = ___\n",
                ""
            ]
        },
        {
            "cell_type": "code",
            "execution_count": 0,
            "metadata": {},
            "outputs": [],
            "source": [
                "### edTest(test_model) ###\n",
                "\n",
                "# Define your classification model\n",
                "model = ___\n",
                "\n",
                "# Fit the model on the train data\n",
                "___\n",
                ""
            ]
        },
        {
            "cell_type": "code",
            "execution_count": 0,
            "metadata": {},
            "outputs": [],
            "source": [
                "### edTest(test_accuracy) ###\n",
                "\n",
                "# Predict and compute the accuracy on the test data\n",
                "___\n",
                "\n",
                "model_accuracy = ___\n",
                "print(f\"Model Accuracy is {model_accuracy}\")\n",
                ""
            ]
        }
    ]
}
