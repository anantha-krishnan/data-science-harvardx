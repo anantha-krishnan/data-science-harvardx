{
    "cells": [
        {
            "cell_type": "code",
            "execution_count": 1,
            "metadata": {},
            "outputs": [
                {
                    "name": "stdout",
                    "output_type": "stream",
                    "text": [
                        "DataFrame 'adv_df' for 'Advertising.csv' has been created in the data_loader module.\n",
                        "DataFrame 'credit_df' for 'credit.csv' has been created in the data_loader module.\n",
                        "DataFrame 'poly_df' for 'poly.csv' has been created in the data_loader module.\n",
                        "DataFrame 'collinear_df' for 'colinearity.csv' has been created in the data_loader module.\n",
                        "DataFrame 'dataset_df' for 'dataset.csv' has been created in the data_loader module.\n",
                        "DataFrame 'noisypopulation_df' for 'noisypopulation.csv' has been created in the data_loader module.\n",
                        "DataFrame 'polynomial50_df' for 'polynomial50.csv' has been created in the data_loader module.\n",
                        "DataFrame 'insurance_claim_df' for 'insurance_claim.csv' has been created in the data_loader module.\n",
                        "DataFrame 'heart_df' for 'heart.csv' has been created in the data_loader module.\n",
                        "DataFrame 'Advertising_adj_df' for 'Advertising_adj.csv' has been created in the data_loader module.\n",
                        "DataFrame 'covid_df' for 'covid.csv' has been created in the data_loader module.\n"
                    ]
                }
            ],
            "source": [
                "# Import necessary libraries\n",
                "import numpy as np\n",
                "import pandas as pd\n",
                "%matplotlib inline\n",
                "import matplotlib.pyplot as plt\n",
                "# Your code here\n",
                "from utility_fncs import load_dataset\n",
                "%matplotlib widget\n"
            ]
        },
        {
            "cell_type": "code",
            "execution_count": 2,
            "metadata": {},
            "outputs": [
                {
                    "data": {
                        "text/html": [
                            "<div>\n",
                            "<style scoped>\n",
                            "    .dataframe tbody tr th:only-of-type {\n",
                            "        vertical-align: middle;\n",
                            "    }\n",
                            "\n",
                            "    .dataframe tbody tr th {\n",
                            "        vertical-align: top;\n",
                            "    }\n",
                            "\n",
                            "    .dataframe thead th {\n",
                            "        text-align: right;\n",
                            "    }\n",
                            "</style>\n",
                            "<table border=\"1\" class=\"dataframe\">\n",
                            "  <thead>\n",
                            "    <tr style=\"text-align: right;\">\n",
                            "      <th></th>\n",
                            "      <th>age</th>\n",
                            "      <th>sex</th>\n",
                            "      <th>cough</th>\n",
                            "      <th>fever</th>\n",
                            "      <th>chills</th>\n",
                            "      <th>sore_throat</th>\n",
                            "      <th>headache</th>\n",
                            "      <th>fatigue</th>\n",
                            "      <th>Urgency</th>\n",
                            "    </tr>\n",
                            "  </thead>\n",
                            "  <tbody>\n",
                            "    <tr>\n",
                            "      <th>0</th>\n",
                            "      <td>30.0</td>\n",
                            "      <td>1.0</td>\n",
                            "      <td>0.0</td>\n",
                            "      <td>0.0</td>\n",
                            "      <td>0.0</td>\n",
                            "      <td>0.0</td>\n",
                            "      <td>0.0</td>\n",
                            "      <td>0.0</td>\n",
                            "      <td>0</td>\n",
                            "    </tr>\n",
                            "    <tr>\n",
                            "      <th>1</th>\n",
                            "      <td>47.0</td>\n",
                            "      <td>1.0</td>\n",
                            "      <td>0.0</td>\n",
                            "      <td>0.0</td>\n",
                            "      <td>0.0</td>\n",
                            "      <td>0.0</td>\n",
                            "      <td>0.0</td>\n",
                            "      <td>0.0</td>\n",
                            "      <td>0</td>\n",
                            "    </tr>\n",
                            "    <tr>\n",
                            "      <th>2</th>\n",
                            "      <td>49.0</td>\n",
                            "      <td>1.0</td>\n",
                            "      <td>0.0</td>\n",
                            "      <td>0.0</td>\n",
                            "      <td>0.0</td>\n",
                            "      <td>0.0</td>\n",
                            "      <td>0.0</td>\n",
                            "      <td>0.0</td>\n",
                            "      <td>0</td>\n",
                            "    </tr>\n",
                            "    <tr>\n",
                            "      <th>3</th>\n",
                            "      <td>50.0</td>\n",
                            "      <td>0.0</td>\n",
                            "      <td>0.0</td>\n",
                            "      <td>0.0</td>\n",
                            "      <td>0.0</td>\n",
                            "      <td>0.0</td>\n",
                            "      <td>0.0</td>\n",
                            "      <td>0.0</td>\n",
                            "      <td>0</td>\n",
                            "    </tr>\n",
                            "    <tr>\n",
                            "      <th>4</th>\n",
                            "      <td>59.0</td>\n",
                            "      <td>0.0</td>\n",
                            "      <td>0.0</td>\n",
                            "      <td>1.0</td>\n",
                            "      <td>0.0</td>\n",
                            "      <td>0.0</td>\n",
                            "      <td>0.0</td>\n",
                            "      <td>0.0</td>\n",
                            "      <td>0</td>\n",
                            "    </tr>\n",
                            "  </tbody>\n",
                            "</table>\n",
                            "</div>"
                        ],
                        "text/plain": [
                            "    age  sex  cough  fever  chills  sore_throat  headache  fatigue  Urgency\n",
                            "0  30.0  1.0    0.0    0.0     0.0          0.0       0.0      0.0        0\n",
                            "1  47.0  1.0    0.0    0.0     0.0          0.0       0.0      0.0        0\n",
                            "2  49.0  1.0    0.0    0.0     0.0          0.0       0.0      0.0        0\n",
                            "3  50.0  0.0    0.0    0.0     0.0          0.0       0.0      0.0        0\n",
                            "4  59.0  0.0    0.0    1.0     0.0          0.0       0.0      0.0        0"
                        ]
                    },
                    "execution_count": 2,
                    "metadata": {},
                    "output_type": "execute_result"
                }
            ],
            "source": [
                "# Read the datafile \"covid.csv\"\n",
                "df = load_dataset.covid_df.copy()\n",
                "\n",
                "# Take a quick look at the dataframe\n",
                "df.head()\n"
            ]
        },
        {
            "cell_type": "code",
            "execution_count": null,
            "metadata": {},
            "outputs": [],
            "source": [
                "# Check if there are any missing or Null values\n",
                "print(f'null values:\\n{df.isna().sum()}')\n",
                "# Summary statistics of the dataframe\n",
                "print(f'summary statistics:\\n{df.describe()}\\n')\n",
                "# Check the data types of each column\n",
                "print(f'data types:\\n{df.dtypes}\\n')\n",
                "# Check the shape of the dataframe\n",
                "print(f'shape:\\n{df.shape}\\n')\n",
                "\n",
                "\n",
                "\n"
            ]
        },
        {
            "cell_type": "code",
            "execution_count": null,
            "metadata": {},
            "outputs": [],
            "source": [
                "# give 10 words that have eigh sounds like in\n"
            ]
        },
        {
            "cell_type": "code",
            "execution_count": null,
            "metadata": {},
            "outputs": [],
            "source": [
                "### edTest(test_na) ###\n",
                "\n",
                "# Find the number of rows with missing values\n",
                "num_null = df.isnull().any(axis=1).sum()\n",
                "print(\"Number of rows with null values:\", num_null)\n"
            ]
        },
        {
            "cell_type": "code",
            "execution_count": 3,
            "metadata": {},
            "outputs": [],
            "source": [
                "# kNN impute the missing data\n",
                "from sklearn.impute import KNNImputer\n",
                "# Use a k value of 5\n",
                "# Your code here\n",
                "imputer = KNNImputer(n_neighbors=5)\n",
                "\n"
            ]
        },
        {
            "cell_type": "code",
            "execution_count": 4,
            "metadata": {},
            "outputs": [],
            "source": [
                "imputed = imputer.fit_transform(df.drop('Urgency',axis=1))\n",
                "df_imputed = pd.DataFrame(imputed, columns=df.drop('Urgency',axis=1).columns)\n",
                "df_imputed['Urgency'] = df['Urgency'].values"
            ]
        },
        {
            "cell_type": "code",
            "execution_count": 5,
            "metadata": {},
            "outputs": [],
            "source": [
                "### edTest(test_impute) ###\n",
                "# Replace the original dataframe with the imputed data, continue to use df for the dataframe\n",
                "\n",
                "# Your code here\n",
                "df = df_imputed    "
            ]
        },
        {
            "attachments": {},
            "cell_type": "markdown",
            "metadata": {},
            "source": [
                "## EDA"
            ]
        },
        {
            "cell_type": "code",
            "execution_count": null,
            "metadata": {},
            "outputs": [],
            "source": [
                "# Plot an appropriate graph to answer the following question\n",
                "# Your code here\n",
                "import matplotlib.pyplot as plt\n",
                "fig,ax=plt.subplots(figsize=(10, 6))\n",
                "ax.hist(df['age'], bins='auto',alpha=0.6)\n",
                "ax.set_title('Age Distribution of COVID-19 Patients')\n",
                "ax.set_xlabel('Age')\n",
                "ax.set_ylabel('Frequency')\n",
                "plt.show()"
            ]
        },
        {
            "attachments": {},
            "cell_type": "markdown",
            "metadata": {},
            "source": [
                "### ⏸ Which age group has the most urgent need for a hospital bed?\n",
                "\n",
                "#### A. 60 - 70 \n",
                "\n",
                "#### B. 50 - 60 \n",
                "\n",
                "#### C. 20 - 30\n",
                "\n",
                "#### D. 40 - 50"
            ]
        },
        {
            "cell_type": "code",
            "execution_count": 0,
            "metadata": {},
            "outputs": [],
            "source": [
                "### edTest(test_chow1) ###\n",
                "# Submit an answer choice as a string below (eg. if you choose option A, put 'A')\n",
                "answer1 = 'D'\n"
            ]
        },
        {
            "cell_type": "code",
            "execution_count": null,
            "metadata": {},
            "outputs": [],
            "source": [
                "# Plot an appropriate graph to answer the following question    \n",
                "# Your code here\n",
                "import matplotlib.pyplot as plt\n",
                "df_40_60 = pd.DataFrame(df[(df['age'] >= 40) & (df['age'] <= 60)],columns=df.columns)\n",
                "df_40_60[['cough','fever','chills']].sum().plot(kind='bar')\n",
                "plt.title('Frequency of Symptoms in Patients Aged 40-60')\n",
                "plt.xlabel('Symptom')\n",
                "plt.ylabel('Frequency')\n",
                "plt.show()"
            ]
        },
        {
            "attachments": {},
            "cell_type": "markdown",
            "metadata": {},
            "source": [
                "### ⏸ Among the following symptoms, which is the most common one for patients with urgent need of hospitalization?\n",
                "\n",
                "#### A. Cough\n",
                "\n",
                "#### B. Fever\n",
                "\n",
                "#### C. Sore Throat\n",
                "\n",
                "#### D. Fatigue"
            ]
        },
        {
            "cell_type": "code",
            "execution_count": 0,
            "metadata": {},
            "outputs": [],
            "source": [
                "### edTest(test_chow2) ###\n",
                "# Submit an answer choice as a string below (eg. if you choose option A, put 'A')\n",
                "answer2 = 'B'\n"
            ]
        },
        {
            "cell_type": "code",
            "execution_count": null,
            "metadata": {},
            "outputs": [],
            "source": [
                "# Plot an appropriate graph to answer the following question    \n",
                "# Your code here\n",
                "df_outside_40_60 = df[~(df['age'] >= 40) & (df['age'] <= 60)]\n",
                "df_outside_40_60[['cough','fever','chills']].sum().plot(kind='bar')\n",
                "plt.title('Frequency of Symptoms in Patients Outside Aged 40-60')\n",
                "plt.xlabel('Symptom')\n",
                "plt.ylabel('Frequency')\n",
                "plt.show()"
            ]
        },
        {
            "attachments": {},
            "cell_type": "markdown",
            "metadata": {},
            "source": [
                "### ⏸ As compared to patients with urgent need of hospitalization, patients with no urgency have cough as a more common symptom?\n",
                "\n",
                "#### A. True\n",
                "\n",
                "#### B. False\n",
                "\n",
                "#### C. It is the same\n",
                "\n",
                "#### D. Cannot say"
            ]
        },
        {
            "cell_type": "code",
            "execution_count": 0,
            "metadata": {},
            "outputs": [],
            "source": [
                "### edTest(test_chow3) ###\n",
                "# Submit an answer choice as a string below (eg. if you choose option A, put 'A')\n",
                "answer3 = 'B'\n"
            ]
        },
        {
            "attachments": {},
            "cell_type": "markdown",
            "metadata": {},
            "source": [
                "### Train Test Split"
            ]
        },
        {
            "cell_type": "code",
            "execution_count": null,
            "metadata": {},
            "outputs": [],
            "source": [
                "### edTest(test_split) ###\n",
                "# Split the data into train and test sets with 70% for training\n",
                "# Use random state of 60 and set of data as the train split\n",
                "from sklearn.model_selection import train_test_split\n",
                "# Your code here\n",
                "df_train, df_test = train_test_split(df, test_size=0.3, random_state=60)"
            ]
        },
        {
            "cell_type": "code",
            "execution_count": null,
            "metadata": {},
            "outputs": [],
            "source": [
                "# Save the train data into a csv called \"covid_train.csv\"\n",
                "# Remember to not include the default indices\n",
                "df_train.to_csv('covid_train.csv', index=True)\n",
                "\n",
                "# Save the test data into a csv called \"covid_test.csv\"\n",
                "# Remember to not include the default indices\n",
                "df_test.to_csv('covid_test.csv', index=True)\n"
            ]
        },
        {
            "cell_type": "code",
            "execution_count": null,
            "metadata": {},
            "outputs": [],
            "source": []
        }
    ],
    "metadata": {
        "kernelspec": {
            "display_name": "venv",
            "language": "python",
            "name": "python3"
        },
        "language_info": {
            "codemirror_mode": {
                "name": "ipython",
                "version": 3
            },
            "file_extension": ".py",
            "mimetype": "text/x-python",
            "name": "python",
            "nbconvert_exporter": "python",
            "pygments_lexer": "ipython3",
            "version": "3.13.3"
        }
    },
    "nbformat": 4,
    "nbformat_minor": 4
}
