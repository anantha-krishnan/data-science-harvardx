{
 "cells": [
  {
   "cell_type": "code",
   "execution_count": 2,
   "id": "c99e8675-d66b-430c-ab28-60c8d545dc65",
   "metadata": {},
   "outputs": [],
   "source": [
    "import pandas as pd\n",
    "import numpy as np\n",
    "import matplotlib.pyplot as plt\n",
    "from sklearn.model_selection import train_test_split\n",
    "from sklearn.neighbors import KNeighborsRegressor\n",
    "from sklearn.metrics import mean_squared_error, r2_score \n",
    "%matplotlib inline\n",
    "\n"
   ]
  },
  {
   "cell_type": "code",
   "execution_count": 3,
   "id": "b5b6d5d8-e3c2-40c0-bb09-7815375b8848",
   "metadata": {},
   "outputs": [],
   "source": [
    "filename=\"Advertising.csv\"\n",
    "df = pd.read_csv(filename)\n",
    "df.head()\n",
    "x = df.TV.values\n",
    "y = df.Sales.values\n",
    "x_train, x_test, y_train, y_test = train_test_split(x,y,train_size=0.6,random_state=66)"
   ]
  },
  {
   "cell_type": "code",
   "execution_count": 14,
   "id": "ef2deebe",
   "metadata": {},
   "outputs": [
    {
     "name": "stdout",
     "output_type": "stream",
     "text": [
      "[230.1  44.5  17.2 151.5 180.8   8.7  57.5 120.2   8.6 199.8  66.1 214.7\n",
      "  23.8  97.5 204.1 195.4  67.8 281.4  69.2 147.3 218.4 237.4  13.2 228.3\n",
      "  62.3 262.9 142.9 240.1 248.8  70.6 292.9 112.9  97.2 265.6  95.7 290.7\n",
      " 266.9  74.7  43.1 228.  202.5 177.  293.6 206.9  25.1 175.1  89.7 239.9\n",
      " 227.2  66.9 199.8 100.4 216.4 182.6 262.7 198.9   7.3 136.2 210.8 210.7\n",
      "  53.5 261.3 239.3 102.7 131.1  69.   31.5 139.3 237.4 216.8 199.1 109.8\n",
      "  26.8 129.4 213.4  16.9  27.5 120.5   5.4 116.   76.4 239.8  75.3  68.4\n",
      " 213.5 193.2  76.3 110.7  88.3 109.8 134.3  28.6 217.7 250.9 107.4 163.3\n",
      " 197.6 184.9 289.7 135.2 222.4 296.4 280.2 187.9 238.2 137.9  25.   90.4\n",
      "  13.1 255.4 225.8 241.7 175.7 209.6  78.2  75.1 139.2  76.4 125.7  19.4\n",
      " 141.3  18.8 224.  123.1 229.5  87.2   7.8  80.2 220.3  59.6   0.7 265.2\n",
      "   8.4 219.8  36.9  48.3  25.6 273.7  43.  184.9  73.4 193.7 220.5 104.6\n",
      "  96.2 140.3 240.1 243.2  38.   44.7 280.7 121.  197.6 171.3 187.8   4.1\n",
      "  93.9 149.8  11.7 131.7 172.5  85.7 188.4 163.5 117.2 234.5  17.9 206.8\n",
      " 215.4 284.3  50.  164.5  19.6 168.4 222.4 276.9 248.4 170.2 276.7 165.6\n",
      " 156.6 218.5  56.2 287.6 253.8 205.  139.5 191.1 286.   18.7  39.5  75.5\n",
      "  17.2 166.8 149.7  38.2  94.2 177.  283.6 232.1]\n",
      "[37.8 39.3 45.9 41.3 10.8 48.9 32.8 19.6  2.1  2.6  5.8 24.  35.1  7.6\n",
      " 32.9 47.7 36.6 39.6 20.5 23.9 27.7  5.1 15.9 16.9 12.6  3.5 29.3 16.7\n",
      " 27.1 16.  28.3 17.4  1.5 20.   1.4  4.1 43.8 49.4 26.7 37.7 22.3 33.4\n",
      " 27.7  8.4 25.7 22.5  9.9 41.5 15.8 11.7  3.1  9.6 41.7 46.2 28.8 49.4\n",
      " 28.1 19.2 49.6 29.5  2.  42.7 15.5 29.6 42.8  9.3 24.6 14.5 27.5 43.9\n",
      " 30.6 14.3 33.   5.7 24.6 43.7  1.6 28.5 29.9  7.7 26.7  4.1 20.3 44.5\n",
      " 43.  18.4 27.5 40.6 25.5 47.8  4.9  1.5 33.5 36.5 14.  31.6  3.5 21.\n",
      " 42.3 41.7  4.3 36.3 10.1 17.2 34.3 46.4 11.   0.3  0.4 26.9  8.2 38.\n",
      " 15.4 20.6 46.8 35.  14.3  0.8 36.9 16.  26.8 21.7  2.4 34.6 32.3 11.8\n",
      " 38.9  0.  49.  12.  39.6  2.9 27.2 33.5 38.6 47.  39.  28.9 25.9 43.9\n",
      " 17.  35.4 33.2  5.7 14.8  1.9  7.3 49.  40.3 25.8 13.9  8.4 23.3 39.7\n",
      " 21.1 11.6 43.5  1.3 36.9 18.4 18.1 35.8 18.1 36.8 14.7  3.4 37.6  5.2\n",
      " 23.6 10.6 11.6 20.9 20.1  7.1  3.4 48.9 30.2  7.8  2.3 10.   2.6  5.4\n",
      "  5.7 43.  21.3 45.1  2.1 28.7 13.9 12.1 41.1 10.8  4.1 42.  35.6  3.7\n",
      "  4.9  9.3 42.   8.6]\n",
      "[ 69.2  45.1  69.3  58.5  58.4  75.   23.5  11.6   1.   21.2  24.2   4.\n",
      "  65.9   7.2  46.   52.9 114.   55.8  18.3  19.1  53.4  23.5  49.6  26.2\n",
      "  18.3  19.5  12.6  22.9  22.9  40.8  43.2  38.6  30.    0.3   7.4   8.5\n",
      "   5.   45.7  35.1  32.   31.6  38.7   1.8  26.4  43.3  31.5  35.7  18.5\n",
      "  49.9  36.8  34.6   3.6  39.6  58.7  15.9  60.   41.4  16.6  37.7   9.3\n",
      "  21.4  54.7  27.3   8.4  28.9   0.9   2.2  10.2  11.   27.2  38.7  31.7\n",
      "  19.3  31.3  13.1  89.4  20.7  14.2   9.4  23.1  22.3  36.9  32.5  35.6\n",
      "  33.8  65.7  16.   63.2  73.4  51.4   9.3  33.   59.   72.3  10.9  52.9\n",
      "   5.9  22.   51.2  45.9  49.8 100.9  21.4  17.9   5.3  59.   29.7  23.2\n",
      "  25.6   5.5  56.5  23.2   2.4  10.7  34.5  52.7  25.6  14.8  79.2  22.3\n",
      "  46.2  50.4  15.6  12.4  74.2  25.9  50.6   9.2   3.2  43.1   8.7  43.\n",
      "   2.1  45.1  65.6   8.5   9.3  59.7  20.5   1.7  12.9  75.6  37.9  34.4\n",
      "  38.9   9.    8.7  44.3  11.9  20.6  37.   48.7  14.2  37.7   9.5   5.7\n",
      "  50.5  24.3  45.2  34.6  30.7  49.3  25.6   7.4   5.4  84.8  21.6  19.4\n",
      "  57.6   6.4  18.4  47.4  17.   12.8  13.1  41.8  20.3  35.2  23.7  17.6\n",
      "   8.3  27.4  29.7  71.8  30.   19.6  26.6  18.2   3.7  23.4   5.8   6.\n",
      "  31.6   3.6   6.   13.8   8.1   6.4  66.2   8.7]\n"
     ]
    }
   ],
   "source": [
    "for col in df.columns[:-1]:\n",
    "    print(df[col].values)"
   ]
  },
  {
   "cell_type": "code",
   "execution_count": null,
   "id": "579a3733-454c-4277-81bb-1adedb1dcbc3",
   "metadata": {},
   "outputs": [],
   "source": [
    "Knns = np.linspace(1,70,num=70,dtype=int)\n",
    "mses = {}\n",
    "for k in Knns:\n",
    "    knnmodel = KNeighborsRegressor(n_neighbors=int(k))\n",
    "    knnmodel.fit(x_train.reshape(-1,1),y_train.reshape(-1,1))\n",
    "    y_pred = knnmodel.predict(x_test.reshape(-1,1))\n",
    "    mse = mean_squared_error(y_test, y_pred)\n",
    "    r2e = r2_score(y_test,y_pred)\n",
    "    mses[k]={\"mse\":mse,\n",
    "             \"r2e\":r2e}\n"
   ]
  },
  {
   "cell_type": "code",
   "execution_count": null,
   "id": "3da9b2f2",
   "metadata": {},
   "outputs": [],
   "source": [
    "mse_df = pd.DataFrame.from_dict(mses, orient='index')\n",
    "mse_df.head()\n",
    "mse_df.plot(figsize=(10,8),\n",
    "            subplots=True,\n",
    "            #style='-o',\n",
    "            grid=True,\n",
    "            )\n",
    "#plt.tight_layout()"
   ]
  },
  {
   "cell_type": "code",
   "execution_count": null,
   "id": "968b50bb",
   "metadata": {},
   "outputs": [],
   "source": [
    "# Efficiently extract the data into lists\n",
    "k_values = list(mses.keys())\n",
    "mse_values = [v['mse'] for v in mses.values()]\n",
    "r2_values = [v['r2e'] for v in mses.values()]\n",
    "import matplotlib.pyplot as plt\n",
    "\n",
    "# 1. Create a figure and a set of subplots\n",
    "# fig, axes = plt.subplots(nrows, ncols, ...)\n",
    "# sharex=True links the x-axis of both plots. Zooming on one will zoom the other.\n",
    "fig, axes = plt.subplots(2, 1, figsize=(10, 8), sharex=True)\n",
    "\n",
    "# 2. Plot MSE on the first subplot (axes[0])\n",
    "axes[0].plot(k_values, mse_values, marker='o', linestyle='-', color='b')\n",
    "axes[0].set_ylabel(\"Mean Squared Error (MSE)\")\n",
    "axes[0].set_title(\"Model Performance vs. K\")\n",
    "axes[0].grid(True)\n",
    "\n",
    "# 3. Plot R2 Score on the second subplot (axes[1])\n",
    "axes[1].plot(k_values, r2_values, marker='o', linestyle='-', color='r')\n",
    "axes[1].set_ylabel(\"R² Score\")\n",
    "axes[1].set_xlabel(\"Value of K (Neighbors)\")\n",
    "axes[1].grid(True)\n",
    "\n",
    "# Find the best K for R2 (max value) and MSE (min value) to annotate the plot\n",
    "best_k_r2 = k_values[np.argmax(r2_values)]\n",
    "best_k_mse = k_values[np.argmin(mse_values)]\n",
    "axes[0].axvline(x=best_k_mse, color='gray', linestyle='--', label=f'Best K (MSE) = {best_k_mse}')\n",
    "axes[1].axvline(x=best_k_r2, color='gray', linestyle='--', label=f'Best K (R²) = {best_k_r2}')\n",
    "axes[0].legend()\n",
    "axes[1].legend()\n",
    "\n",
    "\n",
    "# 4. Improve layout and show the plot\n",
    "plt.tight_layout() # Adjusts subplot params for a tight layout.\n",
    "plt.show()"
   ]
  },
  {
   "cell_type": "code",
   "execution_count": null,
   "id": "89b86e93",
   "metadata": {},
   "outputs": [],
   "source": []
  }
 ],
 "metadata": {
  "kernelspec": {
   "display_name": "venv",
   "language": "python",
   "name": "python3"
  },
  "language_info": {
   "codemirror_mode": {
    "name": "ipython",
    "version": 3
   },
   "file_extension": ".py",
   "mimetype": "text/x-python",
   "name": "python",
   "nbconvert_exporter": "python",
   "pygments_lexer": "ipython3",
   "version": "3.13.3"
  }
 },
 "nbformat": 4,
 "nbformat_minor": 5
}
