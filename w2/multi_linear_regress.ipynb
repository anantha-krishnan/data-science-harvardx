{
    "cells": [
        {
            "cell_type": "code",
            "execution_count": 1,
            "metadata": {},
            "outputs": [],
            "source": [
                "# Import necessary libraries\n",
                "import numpy as np\n",
                "import pandas as pd\n",
                "import matplotlib.pyplot as plt\n",
                "from sklearn import preprocessing\n",
                "from prettytable import PrettyTable\n",
                "from sklearn.metrics import mean_squared_error\n",
                "from sklearn.linear_model import LinearRegression\n",
                "from sklearn.model_selection import train_test_split\n",
                "%matplotlib inline\n"
            ]
        },
        {
            "cell_type": "code",
            "execution_count": 2,
            "metadata": {},
            "outputs": [
                {
                    "name": "stdout",
                    "output_type": "stream",
                    "text": [
                        "DataFrame 'df' for 'Advertising.csv' has been created in the data_loader module.\n"
                    ]
                }
            ],
            "source": [
                "from utility_fncs import load_dataset "
            ]
        },
        {
            "cell_type": "code",
            "execution_count": null,
            "metadata": {},
            "outputs": [],
            "source": [
                "df = load_dataset.adv_df"
            ]
        },
        {
            "attachments": {},
            "cell_type": "markdown",
            "metadata": {},
            "source": [
                "### Reading the dataset"
            ]
        },
        {
            "cell_type": "code",
            "execution_count": 4,
            "metadata": {},
            "outputs": [],
            "source": [
                "import statsmodels.formula.api as smf"
            ]
        },
        {
            "attachments": {},
            "cell_type": "markdown",
            "metadata": {},
            "source": [
                "### Create different multi predictor models "
            ]
        },
        {
            "cell_type": "code",
            "execution_count": 5,
            "metadata": {},
            "outputs": [],
            "source": [
                "### edTest(test_mse) ###\n",
                "\n",
                "# Initialize a list to store the MSE values\n",
                "mse_list = []\n",
                "\n",
                "# Create a list of lists of all unique predictor combinations\n",
                "# For example, if you have 2 predictors,  A and B, you would \n",
                "# end up with [['A'],['B'],['A','B']]\n",
                "cols = []\n",
                "import itertools\n",
                "import pprint\n",
                "all_combinations = []\n",
                "for i in range(1, len(list(df.columns[:-1]))+1):\n",
                "    combos = itertools.combinations(df.columns[:-1],i)\n",
                "    cols.extend([list(i) for i in combos])\n",
                "\n",
                "#cols = [[]]\n",
                "\n",
                "# Loop over all the predictor combinations \n",
                "for i in cols:\n",
                "\n",
                "    # Set each of the predictors from the previous list as x\n",
                "    x = df[i]\n",
                "    \n",
                "    # Set the \"Sales\" column as the reponse variable\n",
                "    y = df['Sales']\n",
                "   \n",
                "    # Split the data into train-test sets with 80% training data and 20% testing data. \n",
                "    # Set random_state as 0\n",
                "    x_train, x_test, y_train, y_test = train_test_split(x,y,train_size=0.8,random_state=0)\n",
                "\n",
                "    # Initialize a Linear Regression model\n",
                "    lreg = LinearRegression()\n",
                "\n",
                "    # Fit the linear model on the train data\n",
                "    lreg.fit(x_train,y_train)\n",
                "\n",
                "    # Predict the response variable for the test set using the trained model\n",
                "    y_pred = lreg.predict(x_test)\n",
                "    \n",
                "    # Compute the MSE for the test data\n",
                "    MSE = mean_squared_error(y_test,y_pred)\n",
                "    \n",
                "    # Append the computed MSE to the initialized list\n",
                "    mse_list.append(MSE)\n"
            ]
        },
        {
            "attachments": {},
            "cell_type": "markdown",
            "metadata": {},
            "source": [
                "### Display the MSE with predictor combinations"
            ]
        },
        {
            "cell_type": "code",
            "execution_count": 6,
            "metadata": {},
            "outputs": [
                {
                    "name": "stdout",
                    "output_type": "stream",
                    "text": [
                        "+------------------------------+--------+\n",
                        "|          Predictors          |  MSE   |\n",
                        "+------------------------------+--------+\n",
                        "|            ['TV']            | 10.186 |\n",
                        "|          ['Radio']           | 24.237 |\n",
                        "|        ['Newspaper']         | 32.137 |\n",
                        "|       ['TV', 'Radio']        | 4.391  |\n",
                        "|     ['TV', 'Newspaper']      | 8.688  |\n",
                        "|    ['Radio', 'Newspaper']    | 24.783 |\n",
                        "| ['TV', 'Radio', 'Newspaper'] | 4.402  |\n",
                        "+------------------------------+--------+\n"
                    ]
                }
            ],
            "source": [
                "# Helper code to display the MSE for each predictor combination\n",
                "t = PrettyTable(['Predictors', 'MSE'])\n",
                "\n",
                "for i in range(len(mse_list)):\n",
                "    t.add_row([cols[i],round(mse_list[i],3)])\n",
                "\n",
                "print(t)\n"
            ]
        },
        {
            "cell_type": "code",
            "execution_count": null,
            "metadata": {},
            "outputs": [],
            "source": []
        }
    ],
    "metadata": {
        "kernelspec": {
            "display_name": "venv",
            "language": "python",
            "name": "python3"
        },
        "language_info": {
            "codemirror_mode": {
                "name": "ipython",
                "version": 3
            },
            "file_extension": ".py",
            "mimetype": "text/x-python",
            "name": "python",
            "nbconvert_exporter": "python",
            "pygments_lexer": "ipython3",
            "version": "3.13.3"
        }
    },
    "nbformat": 4,
    "nbformat_minor": 2
}
