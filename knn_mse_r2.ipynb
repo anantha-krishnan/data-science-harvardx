{
 "cells": [
  {
   "cell_type": "code",
   "execution_count": null,
   "id": "c99e8675-d66b-430c-ab28-60c8d545dc65",
   "metadata": {},
   "outputs": [],
   "source": [
    "import pandas as pd\n",
    "import numpy as np\n",
    "import matplotlib.pyplot as plt\n",
    "from sklearn.model_selection import train_test_split\n",
    "from sklearn.neighbors import KNeighborsRegressor\n",
    "from sklearn.metrics import mean_squared_error, r2_score\n",
    "%matplotlib inline\n",
    "\n"
   ]
  },
  {
   "cell_type": "code",
   "execution_count": null,
   "id": "b5b6d5d8-e3c2-40c0-bb09-7815375b8848",
   "metadata": {},
   "outputs": [],
   "source": [
    "filename=\"Advertising.csv\"\n",
    "df = pd.read_csv(filename)\n",
    "df.head()\n",
    "x = df.TV.values\n",
    "y = df.Sales.values\n",
    "x_train, x_test, y_train, y_test = train_test_split(x,y,train_size=0.6,random_state=66)"
   ]
  },
  {
   "cell_type": "code",
   "execution_count": null,
   "id": "579a3733-454c-4277-81bb-1adedb1dcbc3",
   "metadata": {},
   "outputs": [],
   "source": [
    "Knns = np.linspace(1,70,num=70,dtype=int)\n",
    "mses = {}\n",
    "for k in Knns:\n",
    "    knnmodel = KNeighborsRegressor(n_neighbors=int(k))\n",
    "    knnmodel.fit(x_train.reshape(-1,1),y_train.reshape(-1,1))\n",
    "    y_pred = knnmodel.predict(x_test.reshape(-1,1))\n",
    "    mse = mean_squared_error(y_test, y_pred)\n",
    "    r2e = r2_score(y_test,y_pred)\n",
    "    mses[k]={\"mse\":mse,\n",
    "             \"r2e\":r2e}\n"
   ]
  },
  {
   "cell_type": "code",
   "execution_count": null,
   "id": "3da9b2f2",
   "metadata": {},
   "outputs": [],
   "source": [
    "mse_df = pd.DataFrame.from_dict(mses, orient='index')\n",
    "mse_df.head()\n",
    "mse_df.plot(figsize=(10,8),\n",
    "            subplots=True,\n",
    "            #style='-o',\n",
    "            grid=True,\n",
    "            )\n",
    "#plt.tight_layout()"
   ]
  },
  {
   "cell_type": "code",
   "execution_count": null,
   "id": "968b50bb",
   "metadata": {},
   "outputs": [],
   "source": [
    "# Efficiently extract the data into lists\n",
    "k_values = list(mses.keys())\n",
    "mse_values = [v['mse'] for v in mses.values()]\n",
    "r2_values = [v['r2e'] for v in mses.values()]\n",
    "import matplotlib.pyplot as plt\n",
    "\n",
    "# 1. Create a figure and a set of subplots\n",
    "# fig, axes = plt.subplots(nrows, ncols, ...)\n",
    "# sharex=True links the x-axis of both plots. Zooming on one will zoom the other.\n",
    "fig, axes = plt.subplots(2, 1, figsize=(10, 8), sharex=True)\n",
    "\n",
    "# 2. Plot MSE on the first subplot (axes[0])\n",
    "axes[0].plot(k_values, mse_values, marker='o', linestyle='-', color='b')\n",
    "axes[0].set_ylabel(\"Mean Squared Error (MSE)\")\n",
    "axes[0].set_title(\"Model Performance vs. K\")\n",
    "axes[0].grid(True)\n",
    "\n",
    "# 3. Plot R2 Score on the second subplot (axes[1])\n",
    "axes[1].plot(k_values, r2_values, marker='o', linestyle='-', color='r')\n",
    "axes[1].set_ylabel(\"R² Score\")\n",
    "axes[1].set_xlabel(\"Value of K (Neighbors)\")\n",
    "axes[1].grid(True)\n",
    "\n",
    "# Find the best K for R2 (max value) and MSE (min value) to annotate the plot\n",
    "best_k_r2 = k_values[np.argmax(r2_values)]\n",
    "best_k_mse = k_values[np.argmin(mse_values)]\n",
    "axes[0].axvline(x=best_k_mse, color='gray', linestyle='--', label=f'Best K (MSE) = {best_k_mse}')\n",
    "axes[1].axvline(x=best_k_r2, color='gray', linestyle='--', label=f'Best K (R²) = {best_k_r2}')\n",
    "axes[0].legend()\n",
    "axes[1].legend()\n",
    "\n",
    "\n",
    "# 4. Improve layout and show the plot\n",
    "plt.tight_layout() # Adjusts subplot params for a tight layout.\n",
    "plt.show()"
   ]
  },
  {
   "cell_type": "code",
   "execution_count": null,
   "id": "89b86e93",
   "metadata": {},
   "outputs": [],
   "source": []
  }
 ],
 "metadata": {
  "kernelspec": {
   "display_name": "venv",
   "language": "python",
   "name": "python3"
  },
  "language_info": {
   "codemirror_mode": {
    "name": "ipython",
    "version": 3
   },
   "file_extension": ".py",
   "mimetype": "text/x-python",
   "name": "python",
   "nbconvert_exporter": "python",
   "pygments_lexer": "ipython3",
   "version": "3.13.3"
  }
 },
 "nbformat": 4,
 "nbformat_minor": 5
}
